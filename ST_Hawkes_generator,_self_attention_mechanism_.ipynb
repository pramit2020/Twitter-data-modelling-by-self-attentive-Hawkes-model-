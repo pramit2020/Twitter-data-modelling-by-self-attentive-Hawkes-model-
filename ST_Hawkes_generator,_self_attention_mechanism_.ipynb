{
  "cells": [
    {
      "cell_type": "code",
      "execution_count": null,
      "metadata": {
        "id": "Y4DrPYAe0lte"
      },
      "outputs": [],
      "source": [
        "import numpy as np\n",
        "import numpy.random as rand\n",
        "from scipy.stats import poisson\n",
        "import torch"
      ]
    },
    {
      "cell_type": "code",
      "execution_count": null,
      "metadata": {
        "id": "Kn5bYdEK0lth"
      },
      "outputs": [],
      "source": [
        "import matplotlib\n",
        "import matplotlib.pyplot as plt"
      ]
    },
    {
      "cell_type": "code",
      "execution_count": null,
      "metadata": {
        "id": "U533I_QF0lti"
      },
      "outputs": [],
      "source": [
        "#mu(s) \\prop e^{-||s||^2/2}, base intensity\n",
        "# beta = time decay rate\n",
        "# Sigma - dxd matrix\n",
        "# s ( spatial component) in R^d\n",
        "# element l in the list computes l^th generation of offsprings\n",
        "# list[[l]] is a matrix of size N_lx(1+d)"
      ]
    },
    {
      "cell_type": "code",
      "execution_count": null,
      "metadata": {
        "id": "YpOsfKoa0ltj"
      },
      "outputs": [],
      "source": [
        "## parameters to generate\n",
        "d=20\n",
        "T = 3\n",
        "alpha = 2.4 ## scaling constants\n",
        "beta = 1.8\n",
        "\n",
        "## triggering functions\n",
        "gamma = 3.5\n",
        "B = rand.multivariate_normal(mean = np.zeros(d), cov = np.identity(d), size=d)\n",
        "Sigma = np.matmul(B, B.T)/2\n",
        "\n",
        "\n",
        "## background intensity\n",
        "mean_base = rand.uniform(low=0, high=1, size=d) ## mean in density for gaussian part of base intensity\n",
        "S = np.diag(rand.uniform(low=1, high=2, size=d)) ## variance covariance matrix for gaussian part of base intensity\n",
        "phi = 4"
      ]
    },
    {
      "cell_type": "code",
      "execution_count": null,
      "metadata": {
        "id": "KeNU2ZK_0ltj"
      },
      "outputs": [],
      "source": [
        "## keep real parameters recorded\n",
        "gamma_real = gamma\n",
        "Sigma_real = Sigma\n",
        "m_real = mean_base\n",
        "S_real = S\n",
        "phi_real = phi\n",
        "alpha_real = alpha\n",
        "beta_real = beta"
      ]
    },
    {
      "cell_type": "code",
      "execution_count": null,
      "metadata": {
        "id": "KqNwCkcG0ltk"
      },
      "outputs": [],
      "source": [
        "#generate the base intensity events\n",
        "ST_hawkes = []\n",
        "N0 = poisson.rvs(mu=alpha*(1-np.exp(-phi*T)), size=1)\n",
        "N0 = int(N0)\n",
        "G0 = np.zeros((N0,1+d))\n",
        "G0[:,0] = rand.exponential(scale = 1/phi, size =N0) ## arrival times of background events\n",
        "for i in range(N0):\n",
        "    G0[i,1:(d+1)] =  rand.multivariate_normal(mean = mean_base, cov = S, size=1)[0]\n",
        "accepted = [i for i,v in enumerate(G0[:,0]) if v <= T]\n",
        "ST_hawkes.append(G0[accepted,:]) ## 0th element is the background generation G0 events"
      ]
    },
    {
      "cell_type": "code",
      "execution_count": null,
      "metadata": {
        "colab": {
          "base_uri": "https://localhost:8080/"
        },
        "id": "AveuRUwW0ltl",
        "outputId": "c2b79734-a4e1-4bce-860a-1cdc9b4033a6"
      },
      "outputs": [
        {
          "output_type": "stream",
          "name": "stdout",
          "text": [
            "1.7999504343911705\n"
          ]
        }
      ],
      "source": [
        "#generate offspring levels\n",
        "m = beta*(1-np.exp(-gamma*T)) # mean number of offspring\n",
        "print(m)"
      ]
    },
    {
      "cell_type": "code",
      "execution_count": null,
      "metadata": {
        "id": "Tp5MWikm0ltm"
      },
      "outputs": [],
      "source": [
        "# a function which generates offspringfs given a parent\n",
        " #give a vector of form (t,s) and get a matrix of its offsprings\n",
        "def offspring(v):\n",
        "\n",
        "    m = beta*(1-np.exp(-gamma*(T-v[0])))\n",
        "    N = poisson.rvs(mu =m)\n",
        "    if N==0:\n",
        "        return \"No babies!!\"\n",
        "    if N>0:\n",
        "        O = np.zeros((N,1+d))\n",
        "        O[:,0] = v[0]+rand.exponential(scale = 1/gamma)\n",
        "\n",
        "    for i in range(N):\n",
        "        O[i, 1:(d+2)] = v[1:(d+2)]+ rand.multivariate_normal(mean = np.zeros(d), cov = Sigma)\n",
        "\n",
        "    accepted = [i for i,v in enumerate(O[:,0]) if v <= T]\n",
        "    return O[accepted,:]"
      ]
    },
    {
      "cell_type": "code",
      "execution_count": null,
      "metadata": {
        "colab": {
          "base_uri": "https://localhost:8080/"
        },
        "id": "H51MxCYj0ltn",
        "outputId": "6082bb60-2216-4e1e-cc75-53524d7e714c"
      },
      "outputs": [
        {
          "output_type": "stream",
          "name": "stdout",
          "text": [
            "We are at generation 0\n",
            "Added 8 offsprings\n",
            "We are at generation 1\n",
            "Added 15 offsprings\n",
            "We are at generation 2\n",
            "Added 35 offsprings\n",
            "We are at generation 3\n",
            "Added 69 offsprings\n",
            "We are at generation 4\n",
            "Added 118 offsprings\n",
            "We are at generation 5\n",
            "Added 209 offsprings\n",
            "We are at generation 6\n",
            "Added 346 offsprings\n",
            "We are at generation 7\n",
            "Added 537 offsprings\n",
            "We are at generation 8\n",
            "Added 733 offsprings\n",
            "We are at generation 9\n",
            "Added 947 offsprings\n",
            "We are at generation 10\n",
            "Added 1108 offsprings\n",
            "We are at generation 11\n",
            "Added 1152 offsprings\n",
            "We are at generation 12\n",
            "Added 1125 offsprings\n",
            "We are at generation 13\n",
            "Added 971 offsprings\n",
            "We are at generation 14\n",
            "Added 743 offsprings\n",
            "We are at generation 15\n",
            "Added 608 offsprings\n",
            "We are at generation 16\n",
            "Added 399 offsprings\n",
            "We are at generation 17\n",
            "Added 268 offsprings\n",
            "We are at generation 18\n",
            "Added 158 offsprings\n",
            "We are at generation 19\n",
            "Added 117 offsprings\n",
            "We are at generation 20\n",
            "Added 44 offsprings\n",
            "We are at generation 21\n",
            "Added 17 offsprings\n",
            "We are at generation 22\n",
            "Added 6 offsprings\n",
            "We are at generation 23\n",
            "Added 4 offsprings\n",
            "We are at generation 24\n",
            "Added 1 offsprings\n",
            "We are at generation 25\n",
            "Added 0 offsprings\n"
          ]
        }
      ],
      "source": [
        "#Number of generations M\n",
        "l=0\n",
        "p=1\n",
        "c=0 # counter for events\n",
        "\n",
        "while(p>0):\n",
        "\n",
        "    parents = ST_hawkes[l] #matrix of(t,s) for generation l\n",
        "    num_parents = np.shape(parents)[0] # number of events in gen l\n",
        "    if num_parents ==0:\n",
        "        break\n",
        "\n",
        "\n",
        "    c=c+num_parents\n",
        "    if num_parents==0:\n",
        "        break\n",
        "    kids = np.zeros((1,1+d)) #dummy 0 row\n",
        "\n",
        "    for i in range(num_parents):\n",
        "        vector = parents[i,:]\n",
        "        temp = offspring(vector)\n",
        "\n",
        "        if type(temp) != str:\n",
        "            kids = np.concatenate((kids, temp), axis = 0)\n",
        "            ##kids <- rbind(kids, temp)\n",
        "\n",
        "\n",
        "    hello = kids[1:,:]\n",
        "\n",
        "    if np.sum(np.shape(hello))==0: p=0\n",
        "    ST_hawkes.append(hello)\n",
        "    print(\"We are at generation \"+str(l))\n",
        "    print(\"Added \"+ str(np.shape(hello)[0])+\" offsprings\")\n",
        "    l=l+1"
      ]
    },
    {
      "cell_type": "code",
      "execution_count": null,
      "metadata": {
        "id": "NuGaDhrm0lto"
      },
      "outputs": [],
      "source": [
        "g=len(ST_hawkes) ## number of generations\n",
        "occurances = np.zeros((1,d+1))\n",
        "for i in range(g):\n",
        "    Iwantthese= ST_hawkes[i]\n",
        "    occurances = np.concatenate((occurances, Iwantthese))\n",
        "\n",
        "Myoutput = occurances[1:,:]\n",
        "Myoutput = Myoutput[Myoutput[:, 0].argsort()]"
      ]
    },
    {
      "cell_type": "code",
      "execution_count": null,
      "metadata": {
        "colab": {
          "base_uri": "https://localhost:8080/"
        },
        "id": "gkkpS-DF0ltp",
        "outputId": "d0c0c4de-bfef-4a80-e4cd-1b6f7d86b52c"
      },
      "outputs": [
        {
          "output_type": "execute_result",
          "data": {
            "text/plain": [
              "(9743, 21)"
            ]
          },
          "metadata": {},
          "execution_count": 18
        }
      ],
      "source": [
        "np.shape(Myoutput) ## number of events x( 1+ dim of spatial points)"
      ]
    },
    {
      "cell_type": "code",
      "execution_count": null,
      "metadata": {
        "id": "j2URlOfG0ltp"
      },
      "outputs": [],
      "source": [
        "#naming\n",
        "#rownames(Myoutoput) <-c()\n",
        "#colnames(Myoutoput) <- c(\"time\", paste0(\"eta\", c(1:d)))\n",
        "#print(paste0(\"Total number of events is  \",c))\n",
        "#View(Myoutoput)\n"
      ]
    },
    {
      "cell_type": "code",
      "execution_count": null,
      "metadata": {
        "colab": {
          "base_uri": "https://localhost:8080/"
        },
        "id": "EQJ2-Ot20ltq",
        "outputId": "5e854a21-7e9d-4187-96c1-54358993d408"
      },
      "outputs": [
        {
          "output_type": "execute_result",
          "data": {
            "text/plain": [
              "array([[ 5.47815659e-02,  5.24126541e-01, -1.42206907e-01,\n",
              "         2.07681055e+00, -7.50129324e-01,  3.18098616e-01,\n",
              "         3.93387153e-01,  5.75408215e-01,  8.12409665e-01,\n",
              "        -1.30837658e+00,  1.21645168e-01],\n",
              "       [ 2.05440119e-01,  6.32576988e-01,  4.33429550e+00,\n",
              "         2.21997299e+00,  5.13266882e-01,  2.07629657e+00,\n",
              "         8.55939068e-01,  1.91774438e+00,  1.28918740e+00,\n",
              "        -7.67814508e+00, -3.20313221e+00],\n",
              "       [ 3.00453103e-01,  5.01340693e+00,  3.80334791e+00,\n",
              "         3.31865410e+00,  5.48787117e+00, -8.61026148e-01,\n",
              "        -3.18437284e+00,  3.91701419e+00,  2.27233539e+00,\n",
              "        -6.21435181e+00, -1.62797970e+00],\n",
              "       [ 7.46106952e-01,  1.04785504e+00,  3.09826348e+00,\n",
              "         5.27462762e+00,  4.36900795e+00,  7.40319244e-01,\n",
              "        -6.31133622e+00,  3.75292454e+00,  3.31499876e+00,\n",
              "        -7.05994993e+00, -1.22513248e+00],\n",
              "       [ 9.11708759e-01, -2.12446057e+00, -1.37952934e+00,\n",
              "         4.71250591e+00,  2.43530313e+00, -2.63481882e+00,\n",
              "        -8.38796754e+00,  1.48863159e+00,  2.44311686e+00,\n",
              "        -7.61664156e-01,  1.61830038e+00],\n",
              "       [ 1.00796928e+00, -1.36275590e+00, -9.91536365e-01,\n",
              "         3.75507401e+00, -2.67101546e+00, -3.38129065e-01,\n",
              "        -7.86682444e+00, -9.52266510e-01, -1.82563182e+00,\n",
              "         2.69607480e+00,  2.32707486e+00],\n",
              "       [ 1.00796928e+00, -6.28103626e-01, -5.04177497e+00,\n",
              "         2.93753563e+00,  1.64707158e+00, -6.80477557e+00,\n",
              "        -7.75964640e+00, -1.21282395e+00,  2.63026316e+00,\n",
              "         7.27008461e+00,  3.09095221e+00],\n",
              "       [ 1.00796928e+00, -4.89219842e+00,  1.59007849e+00,\n",
              "         3.32885314e+00,  4.49238101e-01, -4.64721346e+00,\n",
              "        -5.13414447e+00, -2.90794881e+00,  4.01480243e-01,\n",
              "        -4.57975116e+00, -2.66282150e+00],\n",
              "       [ 1.00796928e+00, -4.67653951e+00,  3.41551213e+00,\n",
              "         4.22794593e+00,  4.77777268e+00, -4.13985460e+00,\n",
              "        -1.02789581e+01,  3.95029934e+00,  5.76291743e+00,\n",
              "        -3.61333912e+00, -2.38003940e-02],\n",
              "       [ 1.00796928e+00, -3.53031714e+00, -2.99328484e+00,\n",
              "         7.12706940e+00,  2.73804347e+00, -1.75746897e-01,\n",
              "        -1.06022349e+01,  4.65637871e-01,  1.13066387e+00,\n",
              "        -3.59811035e+00,  1.11698327e+00],\n",
              "       [ 1.16834736e+00, -6.30829499e+00,  3.10550796e-01,\n",
              "         1.90560557e+00, -3.25496648e+00, -5.27156363e+00,\n",
              "        -1.94729656e+00, -5.46344139e+00,  2.86730160e-01,\n",
              "         8.00069850e-01, -1.68857858e+00],\n",
              "       [ 1.16834736e+00,  3.47764140e+00, -6.16689320e+00,\n",
              "         6.56661962e+00,  4.22716854e+00, -5.65284136e+00,\n",
              "        -6.12898098e+00, -1.68911250e+00,  1.09993189e+00,\n",
              "         8.20964048e-01,  3.19995869e+00],\n",
              "       [ 1.19610866e+00, -7.78280750e+00, -3.30176631e+00,\n",
              "         3.76729304e+00, -2.61730851e+00,  1.52226914e-01,\n",
              "        -5.54267858e+00, -4.78366626e+00,  1.75843212e+00,\n",
              "         2.41750049e+00, -2.29174714e+00],\n",
              "       [ 1.20728784e+00,  3.68827080e+00, -1.05310262e+01,\n",
              "         5.23943487e+00,  7.33427027e-02, -4.82963902e+00,\n",
              "        -6.18553685e+00, -2.96325537e+00,  3.23517001e-02,\n",
              "         7.03725257e+00,  5.23504703e+00],\n",
              "       [ 1.20728784e+00, -3.11108897e+00, -1.12545707e+00,\n",
              "         2.50322884e+00,  3.89140009e-01, -6.27635803e+00,\n",
              "        -7.51767488e+00, -4.73974755e-01,  1.44007088e+00,\n",
              "         2.98328593e+00,  2.23425504e+00],\n",
              "       [ 1.20728784e+00, -3.65405508e+00, -5.64638490e-01,\n",
              "         4.74803104e+00, -5.29797275e-01, -2.17255945e+00,\n",
              "        -1.16895922e+01,  1.26055454e+00,  7.66394187e-01,\n",
              "         3.04891173e+00,  3.92971287e+00],\n",
              "       [ 1.32535715e+00, -2.38738564e+00, -3.57707238e+00,\n",
              "         2.95441016e+00, -2.15073364e+00,  1.90294342e+00,\n",
              "        -1.90558820e+00, -3.85251006e+00,  2.23428703e+00,\n",
              "         3.96525367e+00, -2.37324623e+00],\n",
              "       [ 1.36824741e+00, -1.68042573e+00, -6.95512737e-01,\n",
              "         4.12845893e+00, -6.58372161e-01, -2.08317708e+00,\n",
              "        -1.24093792e+01,  1.93197700e+00, -5.20954241e-01,\n",
              "        -1.49884383e-01,  2.33853231e+00],\n",
              "       [ 1.36824741e+00, -1.80275157e+00, -2.40618603e+00,\n",
              "         1.12301777e+00, -6.53897573e-01, -8.64567227e+00,\n",
              "        -4.47442498e+00, -1.56453514e+00,  2.31189902e+00,\n",
              "         3.57175518e+00,  1.89807130e+00],\n",
              "       [ 1.36824741e+00, -4.31407918e+00, -2.96429820e+00,\n",
              "        -3.19987401e-01,  4.53649864e+00, -1.39476893e+01,\n",
              "        -4.13506261e+00, -1.26303748e+00,  3.31427149e+00,\n",
              "         3.52641122e+00,  1.49236578e+00],\n",
              "       [ 1.37122029e+00,  6.21728481e+00, -9.02263916e-01,\n",
              "         3.43074659e+00, -7.94088274e-01, -7.78245549e-01,\n",
              "        -5.83923467e+00,  2.12625610e+00,  7.56450700e-01,\n",
              "         3.20498036e+00,  3.19790096e+00],\n",
              "       [ 1.37122029e+00,  1.26773388e+00,  5.49032802e-01,\n",
              "         4.03054468e+00, -5.09566958e-01, -5.62794468e-01,\n",
              "        -8.96397958e+00,  2.10119243e+00, -1.58955487e+00,\n",
              "        -4.39676094e-02,  2.51811955e+00],\n",
              "       [ 1.37900578e+00, -8.70783355e+00,  2.35768364e-01,\n",
              "         3.27842562e+00, -3.11032612e+00, -4.17041242e+00,\n",
              "        -4.45354589e+00, -8.17296857e+00,  9.66179179e-01,\n",
              "        -2.10106758e-01, -4.91582713e+00],\n",
              "       [ 1.40832878e+00,  1.01642804e+00, -3.44811018e+00,\n",
              "         2.65465257e+00,  7.99256584e-01, -7.30975123e+00,\n",
              "        -7.77117763e+00,  5.72401817e-01,  1.61907890e+00,\n",
              "         5.38720984e+00,  4.57903488e+00],\n",
              "       [ 1.42384842e+00, -2.54350022e+00, -3.20070774e+00,\n",
              "         6.53959546e-01,  7.59372467e+00, -1.26975948e+01,\n",
              "        -7.65913175e+00,  1.60200988e-01,  4.03291254e+00,\n",
              "         2.03093780e+00,  9.05739254e-02],\n",
              "       [ 1.42384842e+00, -4.44478356e+00, -2.47000612e+00,\n",
              "         2.65981669e+00,  5.20146232e+00, -9.55898709e+00,\n",
              "        -1.07954575e+01,  2.46351778e+00,  1.58520781e+00,\n",
              "         3.45364825e-01,  3.54849337e+00],\n",
              "       [ 1.47397096e+00,  1.33455961e+00, -3.31770161e+00,\n",
              "        -1.30170225e+00,  8.58546909e+00, -1.53210466e+01,\n",
              "        -4.53907791e+00, -1.12233302e+00,  2.69921194e+00,\n",
              "         5.37403446e+00,  1.34199322e-02],\n",
              "       [ 1.47397096e+00, -9.25062054e-01, -4.70908979e+00,\n",
              "        -1.84569640e-01,  1.01646800e+01, -1.77833556e+01,\n",
              "        -8.94407771e+00,  7.97561892e-01,  1.99268247e+00,\n",
              "         1.82880176e+00,  1.85907360e+00],\n",
              "       [ 1.48853469e+00, -3.49320958e+00, -3.40813167e+00,\n",
              "        -9.41119185e-01,  1.13338088e+01, -1.99111484e+01,\n",
              "        -1.18873143e+01,  6.95898450e-01,  9.13262592e-01,\n",
              "        -8.03358554e-03,  2.70091013e-01],\n",
              "       [ 1.48853469e+00, -9.85481801e-01, -4.31042274e+00,\n",
              "        -9.22240144e-01,  7.05382641e+00, -1.71158992e+01,\n",
              "        -2.40059688e+00,  1.61163561e+00,  3.26693829e+00,\n",
              "         1.85579997e+00,  4.34219805e+00],\n",
              "       [ 1.48853469e+00,  4.25473983e+00, -9.97062672e+00,\n",
              "        -1.27604290e-01,  1.05096587e+01, -1.93353466e+01,\n",
              "        -7.91869140e+00,  2.14894678e+00,  7.22769704e-01,\n",
              "         5.40808487e+00,  6.49669420e+00],\n",
              "       [ 1.56068455e+00,  8.25008990e+00, -4.39238679e+00,\n",
              "        -6.66427704e-01,  8.49298330e+00, -1.40828994e+01,\n",
              "         3.52017780e+00,  1.35942482e-02,  6.75980245e+00,\n",
              "         8.05596014e+00,  2.36094823e+00],\n",
              "       [ 1.56074898e+00, -1.10715389e+01,  3.04907600e+00,\n",
              "         1.97967148e+00, -4.05139126e+00, -3.07775046e+00,\n",
              "         4.33712576e-01, -8.57320425e+00,  4.35844436e+00,\n",
              "        -1.75679978e+00, -7.94464831e+00],\n",
              "       [ 1.56074898e+00, -1.38795942e+01,  7.09122821e+00,\n",
              "        -1.23798028e+00, -7.18720513e+00, -2.59499451e+00,\n",
              "        -1.59604387e+00, -8.76292480e+00, -1.90325197e-01,\n",
              "         7.03221335e-01, -8.49839833e+00],\n",
              "       [ 1.58914551e+00, -1.09153663e+00,  7.68581887e-01,\n",
              "         4.89832592e+00,  6.61704453e-01, -2.97427301e+00,\n",
              "        -1.07235505e+01,  5.18133827e-01, -1.84032003e+00,\n",
              "        -4.30255021e+00,  4.75937258e-01],\n",
              "       [ 1.62295084e+00,  3.90126731e-01, -6.42489025e+00,\n",
              "         2.91809762e+00, -1.88770400e+00,  1.63586121e+00,\n",
              "        -7.72461811e-02, -4.34263028e+00,  2.62526303e+00,\n",
              "         5.31002985e+00, -2.15210722e+00],\n",
              "       [ 1.62295084e+00, -2.30074519e+00, -7.60575051e+00,\n",
              "         1.97636414e+00, -3.30576182e+00,  1.80782576e+00,\n",
              "         6.54012305e-01, -4.52475770e+00,  1.43663843e+00,\n",
              "         6.32467417e+00, -1.04715591e+00],\n",
              "       [ 1.62295084e+00, -4.69119190e+00, -2.25409104e+00,\n",
              "        -4.07730967e-01, -6.22050065e+00,  2.27350999e+00,\n",
              "         2.74649421e+00, -6.11700896e+00,  1.39032864e+00,\n",
              "         8.47845045e+00, -3.42591661e+00],\n",
              "       [ 1.68810723e+00, -1.17921840e-01, -3.08437199e+00,\n",
              "        -6.57562789e-01, -3.71918735e+00,  1.88384802e+00,\n",
              "         6.50585321e+00, -4.58010419e+00,  2.88419355e+00,\n",
              "         4.70215982e+00, -4.57444113e+00],\n",
              "       [ 1.68912524e+00,  7.70028613e+00, -6.55224528e+00,\n",
              "         3.02536625e+00, -1.41323731e-01, -3.25251234e+00,\n",
              "        -8.08675174e+00,  4.77931807e+00, -5.26084636e-01,\n",
              "         8.01997199e+00,  9.26624886e+00],\n",
              "       [ 1.71122513e+00, -4.68807604e+00, -9.72036484e-01,\n",
              "        -1.73709524e+00,  1.33324783e+01, -1.97028504e+01,\n",
              "        -1.41456938e+01,  2.47286700e+00, -1.73754770e+00,\n",
              "        -4.35003330e+00, -1.14274551e+00],\n",
              "       [ 1.71122513e+00, -4.75965081e+00, -4.93619141e+00,\n",
              "        -3.15355826e+00,  1.00504500e+01, -2.03996636e+01,\n",
              "        -1.25340240e+01,  1.55699804e+00, -2.28288907e+00,\n",
              "         6.65948232e+00,  3.87674532e+00],\n",
              "       [ 1.71122513e+00, -4.66504256e+00,  1.36103552e+00,\n",
              "        -2.76405750e+00,  7.66987498e+00, -1.85610797e+01,\n",
              "        -1.09429742e+01,  7.80663824e-01, -3.71675554e+00,\n",
              "        -1.69421318e+00, -5.97922598e-02],\n",
              "       [ 1.72653548e+00,  1.79694931e+00,  1.66048834e+00,\n",
              "         5.59459434e+00,  8.56885871e+00, -4.51112514e+00,\n",
              "        -9.13015081e+00,  5.33133035e+00,  4.48322533e+00,\n",
              "        -8.31248955e+00,  2.40318450e-01],\n",
              "       [ 1.72653548e+00, -4.06019291e+00,  3.91157165e+00,\n",
              "         3.46258048e+00,  4.09077916e+00, -4.09387467e+00,\n",
              "        -8.90191404e+00,  3.02446865e+00,  4.45886316e+00,\n",
              "        -7.41296745e+00, -2.63738508e+00],\n",
              "       [ 1.73119429e+00, -2.35283859e+00, -1.12556710e+00,\n",
              "        -1.96764872e+00,  1.02574056e+01, -2.09021337e+01,\n",
              "        -1.24468134e+01, -1.87124392e-01, -5.12473697e+00,\n",
              "        -3.15919633e+00, -1.31031184e-01],\n",
              "       [ 1.73119429e+00, -6.10757324e+00, -2.52137889e-02,\n",
              "        -2.58533114e+00,  5.60481749e+00, -1.62828968e+01,\n",
              "        -1.37553349e+01,  9.21429410e-01, -4.64088041e+00,\n",
              "        -8.05890754e-02,  5.69629318e-01],\n",
              "       [ 1.73223668e+00, -6.07995383e+00, -2.83971389e+00,\n",
              "        -3.67502734e+00,  1.10962558e+01, -2.29287616e+01,\n",
              "        -1.60241730e+01,  2.38315937e+00, -1.57134378e+00,\n",
              "         8.55194710e+00,  4.12508170e+00],\n",
              "       [ 1.73223668e+00, -1.21482524e+01, -1.11151874e+00,\n",
              "        -4.92911796e+00,  1.01310389e+01, -1.93635058e+01,\n",
              "        -1.81057153e+01,  3.51907269e+00, -4.49481372e+00,\n",
              "         6.46776452e+00,  3.18639310e+00],\n",
              "       [ 1.73240437e+00,  4.50709152e+00,  1.55270265e-01,\n",
              "         7.44310366e+00,  8.29746850e+00, -3.21015582e+00,\n",
              "        -7.61496098e+00,  3.35365640e+00,  6.69669501e+00,\n",
              "        -7.10453693e+00, -4.85479196e-01],\n",
              "       [ 1.75416546e+00, -3.13232193e+00, -4.59147617e+00,\n",
              "         2.95833334e-01,  1.06632310e+01, -2.04512995e+01,\n",
              "        -1.32566415e+01,  1.70437444e+00, -4.79195659e+00,\n",
              "        -5.16395226e+00,  3.17414718e+00],\n",
              "       [ 1.77153125e+00,  5.73936750e+00, -7.24529481e+00,\n",
              "         7.19681659e-01, -2.90411635e-01, -4.50557880e+00,\n",
              "        -7.85140050e+00,  3.39174632e+00, -6.80742000e-01,\n",
              "         1.01462474e+01,  7.36249406e+00],\n",
              "       [ 1.77153125e+00,  6.14080504e+00, -7.91905713e+00,\n",
              "         4.52249695e+00,  9.90409466e-01, -4.00465945e+00,\n",
              "        -7.73373102e+00,  3.58091971e+00,  8.83862719e-01,\n",
              "         5.41791504e+00,  8.38257672e+00],\n",
              "       [ 1.77153125e+00,  9.90478461e+00, -4.89407774e+00,\n",
              "         3.48477700e+00,  2.41585593e+00, -4.38283203e+00,\n",
              "        -1.00760165e+01,  5.80752861e+00, -1.37641284e+00,\n",
              "         4.00783524e+00,  7.91426009e+00],\n",
              "       [ 1.83927831e+00,  6.32272613e+00, -2.35346720e+00,\n",
              "         8.45209280e+00,  1.11753737e+01, -6.76248595e+00,\n",
              "        -1.18993678e+01,  4.81160813e+00,  8.40414908e+00,\n",
              "        -3.94434857e+00,  2.31216107e+00],\n",
              "       [ 1.83927831e+00,  2.25287776e+00, -1.80073821e+00,\n",
              "         6.57783749e+00,  9.83482192e+00, -6.25897395e+00,\n",
              "        -8.03855661e+00,  3.33269240e+00,  5.41463199e+00,\n",
              "        -6.61106571e+00,  9.71149727e-01],\n",
              "       [ 1.83927831e+00,  8.92403417e+00,  2.39484159e+00,\n",
              "         6.59194293e+00,  1.12432643e+01, -2.64794010e+00,\n",
              "        -7.60761610e+00,  5.37798637e+00,  5.01312473e+00,\n",
              "        -8.40668671e+00, -1.31394145e+00],\n",
              "       [ 1.83927831e+00,  4.07995901e+00, -9.11216622e-01,\n",
              "         7.16821707e+00,  7.88906740e+00, -3.19021678e+00,\n",
              "        -4.59058047e+00,  2.31080128e+00,  9.53840450e+00,\n",
              "        -5.53304245e+00, -1.20633461e+00],\n",
              "       [ 1.84478477e+00, -2.09450811e+00, -3.73902525e+00,\n",
              "         5.07561194e+00, -1.44115677e+00,  3.80284041e+00,\n",
              "        -4.79098789e+00, -4.21603041e+00,  2.17789821e+00,\n",
              "        -7.21187252e-01, -4.80353502e+00],\n",
              "       [ 1.84478477e+00, -1.89737088e-01, -6.84182020e+00,\n",
              "         4.99412523e-01, -1.75478216e+00, -1.18555684e+00,\n",
              "         5.67209108e+00, -6.06508436e+00,  5.21946331e+00,\n",
              "         6.49895744e+00, -4.08556437e+00],\n",
              "       [ 1.85751234e+00, -4.90249464e+00, -5.53243788e+00,\n",
              "         3.43171468e-01,  1.14026579e+01, -2.08300971e+01,\n",
              "        -1.16875560e+01,  4.63729440e+00, -3.09520414e+00,\n",
              "        -5.48262119e+00,  6.45703936e+00],\n",
              "       [ 1.85865097e+00, -8.74603757e+00, -2.52280445e+00,\n",
              "        -2.55569874e+00,  1.47829048e+01, -2.08114379e+01,\n",
              "        -1.79968138e+01,  4.20523726e+00, -4.49450010e+00,\n",
              "        -5.70808917e-01,  2.43034101e+00],\n",
              "       [ 1.85865097e+00, -9.03968868e+00, -1.98367041e-01,\n",
              "        -3.37245870e+00,  1.10676185e+01, -1.82114828e+01,\n",
              "        -2.03143069e+01,  3.41496987e+00, -4.80617361e+00,\n",
              "         6.16840646e+00,  2.46012464e+00],\n",
              "       [ 1.86447202e+00, -1.53986266e+01,  7.14519625e+00,\n",
              "        -2.00559450e-01, -8.38738592e+00,  8.18705516e-01,\n",
              "        -2.54134515e+00, -8.66267663e+00, -1.82105422e+00,\n",
              "        -8.07271972e-01, -8.27394176e+00],\n",
              "       [ 1.86447202e+00, -1.18834816e+01,  7.16452683e+00,\n",
              "         3.54127146e+00, -4.90643062e+00,  2.88047128e-01,\n",
              "        -8.48783594e+00, -6.15542689e+00, -3.34650936e-01,\n",
              "        -4.35529704e+00, -7.04199384e+00],\n",
              "       [ 1.89870946e+00, -1.02867701e+00, -3.98503501e+00,\n",
              "         3.36903707e+00, -7.84429825e-01, -3.50727137e+00,\n",
              "        -6.55933041e+00,  1.10270146e-01, -3.23280422e-01,\n",
              "         6.45538093e+00,  5.66792650e+00],\n",
              "       [ 1.89870946e+00,  2.31758733e+00, -4.76507838e+00,\n",
              "         4.78066130e+00, -1.86389877e+00, -3.09733427e-01,\n",
              "        -7.56452625e+00, -7.79660865e-01, -1.46236121e+00,\n",
              "         4.67044475e+00,  4.14717195e+00],\n",
              "       [ 1.93605688e+00,  1.68100971e+01, -3.43267365e+00,\n",
              "         3.16278986e+00,  3.17230792e+00, -4.24487771e+00,\n",
              "        -5.80976881e+00,  6.22629907e+00,  3.25661264e+00,\n",
              "         5.63691134e+00,  6.21619299e+00],\n",
              "       [ 1.94092583e+00,  3.05801111e+00, -5.76945221e+00,\n",
              "         6.51003571e+00,  1.87457243e+00, -3.63359571e+00,\n",
              "        -6.29948306e+00, -9.66913547e-02, -1.09999304e+00,\n",
              "         2.48122353e+00,  6.64196387e+00],\n",
              "       [ 1.98039382e+00, -2.88684410e+00, -3.33438191e+00,\n",
              "         5.48492096e+00, -4.43574526e+00,  6.07789906e+00,\n",
              "        -4.30287507e+00, -5.57546532e+00,  8.12854777e-01,\n",
              "        -1.85952619e+00, -5.51692045e+00]])"
            ]
          },
          "metadata": {},
          "execution_count": 38
        }
      ],
      "source": [
        "Myoutput"
      ]
    },
    {
      "cell_type": "code",
      "execution_count": null,
      "metadata": {
        "id": "Uvv7e6h_0ltq"
      },
      "outputs": [],
      "source": [
        "## self attention code starts"
      ]
    },
    {
      "cell_type": "code",
      "source": [],
      "metadata": {
        "id": "Q8zh_pELpOkJ"
      },
      "execution_count": null,
      "outputs": []
    },
    {
      "cell_type": "code",
      "execution_count": null,
      "metadata": {
        "id": "HVJTavb50ltr"
      },
      "outputs": [],
      "source": [
        "import torch as torch\n",
        "torch.set_default_tensor_type(torch.DoubleTensor)"
      ]
    },
    {
      "cell_type": "code",
      "source": [
        "#events = Myoutput #unscaled"
      ],
      "metadata": {
        "id": "SMe_YsSBmTGJ"
      },
      "execution_count": null,
      "outputs": []
    },
    {
      "cell_type": "code",
      "execution_count": null,
      "metadata": {
        "id": "VoJvVnS90lts"
      },
      "outputs": [],
      "source": [
        "## Myoutput is the real spatial-temporal data\n",
        "## events is scaled to [0,1]^d in space\n",
        "spatial_part = Myoutput[:,1:]\n",
        "spatial_part_scaled = (spatial_part-spatial_part.min(axis=0))/(spatial_part.max(axis=0)-spatial_part.min(axis=0))\n",
        "events = np.column_stack((Myoutput[:,0], spatial_part_scaled))"
      ]
    },
    {
      "cell_type": "code",
      "execution_count": null,
      "metadata": {
        "id": "L9wsCNO30ltt"
      },
      "outputs": [],
      "source": [
        "x = rand.multivariate_normal(mean = np.zeros(d), cov = np.diag(np.ones(d)))\n",
        "t = 1.2\n",
        "history = events[events[:,0] <= t]\n",
        "past_num = np.shape(history)[0]"
      ]
    },
    {
      "cell_type": "code",
      "execution_count": null,
      "metadata": {
        "id": "znbrno5M0ltt"
      },
      "outputs": [],
      "source": [
        "def softmax(v):  # v is a vector\n",
        "    v = v - torch.max(v)\n",
        "    return torch.exp(v) / sum(torch.exp(v))"
      ]
    },
    {
      "cell_type": "code",
      "source": [
        "## learnable parameters\n",
        "d_k = 32\n",
        "d_q = 32\n",
        "d_v = 32\n",
        "W_k = torch.randn((d+1,d_k), requires_grad = True)\n",
        "W_q = torch.randn((d+1,d_q), requires_grad = True)\n",
        "W_v = torch.randn((d+1,d_v), requires_grad = True)"
      ],
      "metadata": {
        "id": "alOePHEujPkT"
      },
      "execution_count": null,
      "outputs": []
    },
    {
      "cell_type": "code",
      "execution_count": null,
      "metadata": {
        "id": "sDLD_Fe80ltt"
      },
      "outputs": [],
      "source": [
        "def self_attention(x,t,events,W_k,W_q,W_v):  # returns h(x), a 1xp tensor for self-attention calculated\n",
        "    #past events\n",
        "    history = events[events[:,0] <= t] #H_t\n",
        "    past_num = np.shape(history)[0]\n",
        "\n",
        "    ## calculate phi_l(z_i)'s\n",
        "    W_v= W_v/5\n",
        "    embeddings = torch.zeros((past_num,d_v))\n",
        "    for i in range(past_num):\n",
        "      point = torch.reshape(torch.tensor(history[i,:]), (1,1+d))\n",
        "      ##W1 is W_v basically\n",
        "      embeddings[i,:] = torch.matmul(point,W_v) ##needs gradients  # 1xd_v\n",
        "\n",
        "    #calculate scores\n",
        "    score = torch.zeros(past_num)\n",
        "\n",
        "    current_point= torch.reshape(torch.tensor(np.append(t,x)), (1,1+d))\n",
        "    query_current = torch.matmul(current_point,W_q) ##1xd_q\n",
        "    for i in range(past_num):\n",
        "      point = torch.reshape(torch.tensor(history[i,:]), (1,1+d))\n",
        "      key_i = torch.matmul(point, W_k) #1xd_k\n",
        "      score[i] = torch.matmul(key_i, query_current.T) #1x1\n",
        "      #k_i = W_k*z_i\n",
        "      # score should be torch.matmul(querry,k_i)\n",
        "\n",
        "\n",
        "\n",
        "    score = softmax(score) #normalise\n",
        "\n",
        "    return torch.matmul(score.reshape(1,past_num),embeddings)[0,:]  ##1 by d_v\n"
      ]
    },
    {
      "cell_type": "code",
      "source": [
        "self_attention(x,t,events,W_k,W_q,W_v)"
      ],
      "metadata": {
        "colab": {
          "base_uri": "https://localhost:8080/"
        },
        "id": "1IIiHF1eOTN0",
        "outputId": "15b1f1ef-79da-4b54-8154-ad9018fb1c2a"
      },
      "execution_count": null,
      "outputs": [
        {
          "output_type": "execute_result",
          "data": {
            "text/plain": [
              "tensor([ 0.3389, -0.3154,  0.1891, -0.5695, -0.3315,  0.2631,  0.1115, -0.4552,\n",
              "         0.7477,  0.6444,  0.0192,  0.2315,  0.2234, -0.1213,  0.1896,  0.2499,\n",
              "        -0.5063,  0.2046,  0.4986,  0.2447,  0.4909,  0.1428,  0.5909, -0.5007,\n",
              "        -0.0169,  0.0309, -0.4168, -0.2130, -0.1731, -0.0890, -0.4337,  0.1918],\n",
              "       grad_fn=<SliceBackward0>)"
            ]
          },
          "metadata": {},
          "execution_count": 48
        }
      ]
    },
    {
      "cell_type": "code",
      "source": [
        "## list tensors should have 3M many tensors\n",
        "M =4\n",
        "list_tensors=[]\n",
        "for i in range(3*M):\n",
        "  list_tensors.append(torch.randn((d+1,d_k), requires_grad = True))"
      ],
      "metadata": {
        "id": "r6pm_qS1UJKE"
      },
      "execution_count": null,
      "outputs": []
    },
    {
      "cell_type": "code",
      "execution_count": null,
      "metadata": {
        "id": "TNd-ZSHp0ltu"
      },
      "outputs": [],
      "source": [
        "def multihead_attention(x,t,events, list_tensors):\n",
        "    ## calculate a list of attentions\n",
        "    M = len(list_tensors)/3 #how many heads?\n",
        "    M = int(M)\n",
        "    attention_tensors = torch.zeros((1, int(M*d_k)))\n",
        "\n",
        "    #concatenate self-attention tensors\n",
        "    for i in range(M):\n",
        "        operator = list_tensors[3*i:(3*i+3)]\n",
        "        attention_tensors[0,i*d_k:(i*d_k+d_k)] = self_attention(x,t, events, W_k= operator[0],W_q= operator[1],W_v= operator[2])\n",
        "\n",
        "    return attention_tensors[0,:]   ## h(x) = (h_1(x),h_2(x),...,h_M(x)) \\in R^Mp"
      ]
    },
    {
      "cell_type": "code",
      "source": [
        "## test case\n",
        "h=multihead_attention(x,t,events, list_tensors)\n",
        "h"
      ],
      "metadata": {
        "colab": {
          "base_uri": "https://localhost:8080/"
        },
        "id": "SonfXMINadSw",
        "outputId": "5e50f9ee-d842-4ccb-e5d9-28879112e2cd"
      },
      "execution_count": null,
      "outputs": [
        {
          "output_type": "execute_result",
          "data": {
            "text/plain": [
              "tensor([-1.3240e-01, -2.5143e-01,  5.7526e-01,  1.3411e-01,  7.6759e-01,\n",
              "         3.5590e-02, -2.4438e-01, -2.1431e-01,  4.1026e-02, -2.7890e-01,\n",
              "        -1.1753e-01,  2.0103e-01, -1.0589e-02,  8.3885e-02,  2.0202e-02,\n",
              "         6.5157e-02, -2.3198e-01,  4.9640e-01, -2.6844e-01, -6.0443e-01,\n",
              "         9.8737e-02, -6.7483e-01,  1.0630e-01,  3.4750e-01,  1.2872e-01,\n",
              "        -3.5103e-02, -1.2694e-01,  4.4441e-02,  2.0190e-01, -1.4602e-01,\n",
              "         6.1836e-01, -2.0780e-01, -2.5514e-01,  6.0201e-01,  6.5091e-01,\n",
              "         2.9117e-01,  8.1957e-02, -5.4332e-01, -3.2465e-01, -3.2146e-01,\n",
              "        -3.5605e-01, -4.2197e-01,  6.5606e-01, -4.2939e-01, -2.1587e-01,\n",
              "         1.6394e-02,  1.2225e-01,  5.7289e-01,  5.9469e-01, -4.8386e-02,\n",
              "         3.4999e-01,  2.1351e-01, -4.0450e-01, -2.8173e-01,  6.0176e-01,\n",
              "        -7.6900e-01, -1.4023e-01,  8.3496e-01, -1.4314e-01,  7.9286e-02,\n",
              "         4.4514e-02,  1.0097e-01, -8.1050e-02,  2.1310e-01, -3.3989e-01,\n",
              "         6.6123e-01, -1.4073e-01,  6.8437e-02,  8.3621e-01, -8.0850e-01,\n",
              "         6.7501e-03,  2.8193e-01, -9.6639e-01,  2.1654e-03, -8.1073e-04,\n",
              "         5.1072e-01, -2.9441e-01, -3.0064e-01,  1.4274e-01, -5.0984e-01,\n",
              "        -7.9292e-01, -9.4774e-02,  1.4764e-01,  8.8150e-02, -2.2976e-01,\n",
              "        -6.1393e-01, -8.5360e-01,  1.9544e-01, -6.5072e-01,  1.0783e-01,\n",
              "         7.5974e-01,  2.1457e-01, -1.1084e-01,  2.4819e-01, -3.3069e-01,\n",
              "        -2.2916e-01, -4.1243e-02,  4.8664e-01,  2.8749e-01, -3.7436e-01,\n",
              "        -5.6560e-01,  8.2383e-02,  5.0325e-01,  5.2773e-02,  1.0295e-01,\n",
              "        -3.2943e-01, -4.0581e-01, -4.9005e-01,  6.8602e-01, -2.5303e-01,\n",
              "         1.3036e-01,  1.9506e-02, -3.7829e-01,  3.3181e-01,  5.6031e-01,\n",
              "        -5.1177e-01,  2.4679e-01, -2.7535e-01, -6.3511e-01,  1.6871e-02,\n",
              "        -7.6124e-02, -1.0891e-02, -7.8344e-02,  2.9837e-01, -1.7737e-01,\n",
              "         3.1313e-01, -3.1047e-01,  1.5631e-01], grad_fn=<SliceBackward0>)"
            ]
          },
          "metadata": {},
          "execution_count": 51
        }
      ]
    },
    {
      "cell_type": "code",
      "source": [
        "## works till here after July 27 modification"
      ],
      "metadata": {
        "id": "RQ99bmI6a5q-"
      },
      "execution_count": null,
      "outputs": []
    },
    {
      "cell_type": "code",
      "source": [
        "## define backgriound density via feed forward neural network\n",
        "import torch.nn as nn\n",
        "import numpy as np\n",
        "\n",
        "d=10\n",
        "n_hidden = d_k\n",
        "back_model = nn.Sequential(nn.Linear(d+1, n_hidden),\n",
        "                      nn.ReLU(),\n",
        "                      nn.Linear(n_hidden, 1),\n",
        "                      nn.ReLU())\n",
        "\n",
        "def background_intensity(x,t,back_model):  #datapoint = (x,t) \\in R^{d+1}\n",
        "    data_point = torch.tensor(np.append(x,t), requires_grad= False, dtype=torch.float64)\n",
        "\n",
        "    return back_model(data_point)\n"
      ],
      "metadata": {
        "id": "08CRrSkgJFMH"
      },
      "execution_count": null,
      "outputs": []
    },
    {
      "cell_type": "code",
      "source": [
        "# model this triggering term by a neural net with input h(x) - the multihead attetion based\n",
        "## representation\n",
        "n_hidden = 32\n",
        "trigger_model =  nn.Sequential(nn.Linear(M*d_k, n_hidden),\n",
        "                      nn.ReLU(),\n",
        "                      nn.Linear(n_hidden, 1),\n",
        "                      nn.Softplus())\n",
        "\n",
        "def triggering_intensity(x,t, events, list_tensors, trigger_model):\n",
        "    h=multihead_attention(x,t,events, list_tensors)  ##h(x,t)\n",
        "    return trigger_model(h)\n"
      ],
      "metadata": {
        "id": "sQRnWY_9cAFb"
      },
      "execution_count": null,
      "outputs": []
    },
    {
      "cell_type": "code",
      "execution_count": null,
      "metadata": {
        "id": "gcgzTKsK0ltw"
      },
      "outputs": [],
      "source": [
        "def intensity_attention(x,t, events, list_tensors, back_model, trigger_model):  ##softplus(h(x)'W_2+b)\n",
        "    return background_intensity(x,t,back_model)+triggering_intensity(x,t, events, list_tensors, trigger_model)"
      ]
    },
    {
      "cell_type": "code",
      "execution_count": null,
      "metadata": {
        "colab": {
          "base_uri": "https://localhost:8080/"
        },
        "id": "9CmYx5Ah0ltw",
        "outputId": "6364d930-f067-481c-8978-f48a6c9907f7"
      },
      "outputs": [
        {
          "output_type": "execute_result",
          "data": {
            "text/plain": [
              "tensor([0.7010], grad_fn=<AddBackward0>)"
            ]
          },
          "metadata": {},
          "execution_count": 56
        }
      ],
      "source": [
        "## test case\n",
        "intensity_attention(x,t,events, list_tensors, back_model, trigger_model)\n",
        "##works"
      ]
    },
    {
      "cell_type": "code",
      "source": [
        "#28th Jul works till here"
      ],
      "metadata": {
        "id": "6933d6Qle7_7"
      },
      "execution_count": null,
      "outputs": []
    },
    {
      "cell_type": "code",
      "execution_count": null,
      "metadata": {
        "id": "n7VmrXnb0ltw"
      },
      "outputs": [],
      "source": [
        "## integral \\int_{X}\\int_{0 to T} lambda(s,t)dsdt\n",
        "def integral_of_intensity_attention(events, list_tensors, back_model, trigger_model):\n",
        "\n",
        "\n",
        "    ## take X to be a very very large [L,U]^d\n",
        "    U = np.max(events[:,1:])\n",
        "    L = np.min(events[:,1:])\n",
        "    num_samples = 1000\n",
        "    vals = torch.zeros(num_samples)\n",
        "    t_start = min(events[:,0]) ##first occurance time, t_start ~ 0\n",
        "\n",
        "    for i in range(num_samples):\n",
        "        point_coords = rand.uniform(low=L, high=U, size=d)\n",
        "        time = rand.uniform(low=t_start, high=T, size=1)\n",
        "        vals[i] = intensity_attention(point_coords,time, events, list_tensors, back_model, trigger_model)\n",
        "        #if i%100==0:\n",
        "        #    print(\"sample \"+str(i)+\" is done\")\n",
        "\n",
        "    #return torch.mean(vals)\n",
        "    return torch.mean(vals)*T*pow(U-L,d)"
      ]
    },
    {
      "cell_type": "code",
      "execution_count": null,
      "metadata": {
        "colab": {
          "base_uri": "https://localhost:8080/"
        },
        "id": "FeHVeOrc0ltw",
        "outputId": "dea2b341-0863-4585-9d3a-8fbbaa5b6246"
      },
      "outputs": [
        {
          "output_type": "execute_result",
          "data": {
            "text/plain": [
              "tensor(389.0046, grad_fn=<MulBackward0>)"
            ]
          },
          "metadata": {},
          "execution_count": 32
        }
      ],
      "source": [
        "integral_of_intensity_attention(events, list_tensors, back_model, trigger_model)"
      ]
    },
    {
      "cell_type": "code",
      "execution_count": null,
      "metadata": {
        "id": "1xh7ucmQ0ltx"
      },
      "outputs": [],
      "source": [
        "def loglikelihood_attention(events, list_tensors, back_model, trigger_model):\n",
        "    ## n = number of events\n",
        "    n = np.shape(events)[0]\n",
        "    s=0\n",
        "    for i in range(n):  ## s = \\sum log lambda(t_i,s_i)\n",
        "        s =s + torch.log(intensity_attention(events[i,1:], events[i,0], events, list_tensors, back_model, trigger_model))\n",
        "    ### include the integral term\n",
        "    return s - integral_of_intensity_attention(events, list_tensors, back_model, trigger_model)"
      ]
    },
    {
      "cell_type": "code",
      "execution_count": null,
      "metadata": {
        "id": "TXPJzwEx0ltx"
      },
      "outputs": [],
      "source": [
        "## evaluate log likelihood\n",
        "loglikelihood_attention( events, list_tensors, back_model, trigger_model) ## input scaled version of events"
      ]
    },
    {
      "cell_type": "code",
      "execution_count": null,
      "metadata": {
        "id": "W1vy2JuX0lty"
      },
      "outputs": [],
      "source": [
        "##works"
      ]
    },
    {
      "cell_type": "code",
      "execution_count": null,
      "metadata": {
        "id": "TrgezxW-0lty"
      },
      "outputs": [],
      "source": [
        "import time\n",
        "## list tensors should have 3M many tensors\n",
        "M =4\n",
        "list_tensors=[]\n",
        "for i in range(3*M):\n",
        "  list_tensors.append(torch.randn((d+1,d_k), requires_grad = True))"
      ]
    },
    {
      "cell_type": "code",
      "execution_count": null,
      "metadata": {
        "id": "1Q5GSfcp0lty",
        "colab": {
          "base_uri": "https://localhost:8080/"
        },
        "outputId": "8833fc76-3049-4d3c-96bb-cbb50972d737"
      },
      "outputs": [
        {
          "output_type": "stream",
          "name": "stdout",
          "text": [
            "log likelihood is tensor([-25.2276], grad_fn=<NegBackward0>)\n",
            "iter  0  done\n",
            "time spent till iter  0  is  0.3309767484664917  minutes\n",
            "iter  1  done\n",
            "time spent till iter  1  is  0.6676573634147644  minutes\n",
            "iter  2  done\n",
            "time spent till iter  2  is  1.0155089815457663  minutes\n",
            "iter  3  done\n",
            "time spent till iter  3  is  1.3582218766212464  minutes\n",
            "iter  4  done\n",
            "time spent till iter  4  is  1.7226364731788635  minutes\n",
            "log likelihood is tensor([129.2204], grad_fn=<NegBackward0>)\n",
            "iter  5  done\n",
            "time spent till iter  5  is  2.066557999451955  minutes\n",
            "iter  6  done\n",
            "time spent till iter  6  is  2.4056400855382285  minutes\n",
            "iter  7  done\n",
            "time spent till iter  7  is  2.75621235370636  minutes\n",
            "iter  8  done\n",
            "time spent till iter  8  is  3.105373406410217  minutes\n",
            "iter  9  done\n",
            "time spent till iter  9  is  3.4454946001370748  minutes\n",
            "log likelihood is tensor([183.2792], grad_fn=<NegBackward0>)\n",
            "iter  10  done\n",
            "time spent till iter  10  is  3.7993492205937702  minutes\n",
            "iter  11  done\n",
            "time spent till iter  11  is  4.160375165939331  minutes\n",
            "iter  12  done\n",
            "time spent till iter  12  is  4.506000550587972  minutes\n",
            "iter  13  done\n",
            "time spent till iter  13  is  4.846617492039998  minutes\n",
            "iter  14  done\n",
            "time spent till iter  14  is  5.192763928572337  minutes\n",
            "log likelihood is tensor([187.5153], grad_fn=<NegBackward0>)\n",
            "iter  15  done\n",
            "time spent till iter  15  is  5.539916265010834  minutes\n",
            "iter  16  done\n",
            "time spent till iter  16  is  5.88055913845698  minutes\n",
            "iter  17  done\n",
            "time spent till iter  17  is  6.216493181387583  minutes\n",
            "iter  18  done\n",
            "time spent till iter  18  is  6.562036899725596  minutes\n",
            "iter  19  done\n",
            "time spent till iter  19  is  6.8979401667912805  minutes\n",
            "log likelihood is tensor([184.1740], grad_fn=<NegBackward0>)\n",
            "iter  20  done\n",
            "time spent till iter  20  is  7.243634176254273  minutes\n",
            "iter  21  done\n",
            "time spent till iter  21  is  7.593073638280233  minutes\n",
            "iter  22  done\n",
            "time spent till iter  22  is  7.946294506390889  minutes\n",
            "iter  23  done\n",
            "time spent till iter  23  is  8.282654921213785  minutes\n",
            "iter  24  done\n",
            "time spent till iter  24  is  8.642382025718689  minutes\n"
          ]
        }
      ],
      "source": [
        " ## Optim SGD routie with multihead attention\n",
        "# Pytorch autograd routine\n",
        "import torch.optim as optim\n",
        "# get the start time\n",
        "st = time.time()\n",
        "niter = 25\n",
        "loglikelihoods_vals_optimizer = np.zeros(niter)\n",
        "optimizer = optim.Adam(list_tensors+list(back_model.parameters())+list(trigger_model.parameters()) , lr = 0.02)\n",
        "\n",
        "for i in range(niter):\n",
        "\n",
        "    optimizer.zero_grad()\n",
        "    cost = -loglikelihood_attention(events, list_tensors, back_model, trigger_model)\n",
        "    loglikelihoods_vals_optimizer[i] = -cost\n",
        "\n",
        "    if i%5==0:\n",
        "        print(\"log likelihood is \"+ str(-cost))\n",
        "\n",
        "    cost.backward()\n",
        "    optimizer.step()\n",
        "    et = time.time()\n",
        "    print(\"iter \", str(i), \" done\")\n",
        "    print(\"time spent till iter \", str(i), \" is \", (et-st)/60, \" minutes\")\n",
        "\n"
      ]
    },
    {
      "cell_type": "code",
      "source": [
        "# Define plot space\n",
        "fig, ax = plt.subplots(figsize=(10, 6))\n",
        "\n",
        "# Define x and y axes\n",
        "ax.plot(np.arange(0,niter),\n",
        "        loglikelihoods_vals_optimizer,\n",
        "        marker = 'o',\n",
        "        color = 'red')\n",
        "\n",
        "# Set plot title and axes labels\n",
        "ax.set(title = \"log likelihood in SGD iterations for d = 15, n = 290\",\n",
        "       xlabel = \"Iteration\",\n",
        "       ylabel = \"Log likelihood\")\n",
        "\n",
        "plt.show()"
      ],
      "metadata": {
        "id": "J7Ok14KOk9_0",
        "colab": {
          "base_uri": "https://localhost:8080/",
          "height": 404
        },
        "outputId": "8f15790f-44c7-4092-cacf-ef6c0a5ca96d"
      },
      "execution_count": null,
      "outputs": [
        {
          "output_type": "display_data",
          "data": {
            "text/plain": [
              "<Figure size 720x432 with 1 Axes>"
            ],
            "image/png": "[encoded data removed]"
          },
          "metadata": {
            "needs_background": "light"
          }
        }
      ]
    }
  ],
  "metadata": {
    "kernelspec": {
      "display_name": "Python 3",
      "language": "python",
      "name": "python3"
    },
    "language_info": {
      "codemirror_mode": {
        "name": "ipython",
        "version": 3
      },
      "file_extension": ".py",
      "mimetype": "text/x-python",
      "name": "python",
      "nbconvert_exporter": "python",
      "pygments_lexer": "ipython3",
      "version": "3.8.3"
    },
    "colab": {
      "provenance": [],
      "machine_shape": "hm"
    },
    "gpuClass": "standard",
    "accelerator": "GPU"
  },
  "nbformat": 4,
  "nbformat_minor": 0
}